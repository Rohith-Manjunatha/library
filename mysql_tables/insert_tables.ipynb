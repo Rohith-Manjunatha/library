{
 "cells": [
  {
   "cell_type": "code",
   "execution_count": 2,
   "metadata": {},
   "outputs": [
    {
     "name": "stdout",
     "output_type": "stream",
     "text": [
      "Requirement already satisfied: mysql-connector-python in d:\\softwares\\anaconda\\lib\\site-packages (8.1.0)\n",
      "Requirement already satisfied: protobuf<=4.21.12,>=4.21.1 in d:\\softwares\\anaconda\\lib\\site-packages (from mysql-connector-python) (4.21.12)\n"
     ]
    },
    {
     "name": "stderr",
     "output_type": "stream",
     "text": [
      "\n",
      "[notice] A new release of pip is available: 23.1 -> 23.3.1\n",
      "[notice] To update, run: python.exe -m pip install --upgrade pip\n"
     ]
    }
   ],
   "source": [
    "!pip install mysql-connector-python"
   ]
  },
  {
   "cell_type": "code",
   "execution_count": 7,
   "metadata": {},
   "outputs": [],
   "source": [
    "config = {\n",
    "  'user': 'root',\n",
    "  'password': 'root',\n",
    "  'host': '127.0.0.1',\n",
    "  'port': 3306,\n",
    "  'database': 'library',\n",
    "  'raise_on_warnings': True\n",
    "}"
   ]
  },
  {
   "cell_type": "code",
   "execution_count": 2,
   "metadata": {},
   "outputs": [],
   "source": [
    "# create a MySQL server connection object\n",
    "import mysql.connector\n",
    "import math\n",
    "import pandas as pd"
   ]
  },
  {
   "cell_type": "code",
   "execution_count": 8,
   "metadata": {},
   "outputs": [],
   "source": [
    "my_sql = mysql.connector.connect(**config)\n",
    "cursor = my_sql.cursor()"
   ]
  },
  {
   "cell_type": "code",
   "execution_count": 9,
   "metadata": {},
   "outputs": [],
   "source": [
    "# Read the CSV file into a pandas DataFrame\n",
    "df = pd.read_csv('books.csv')\n",
    "\n",
    "# Insert each row into the MySQL database\n",
    "for index, row in df.iterrows():\n",
    "    row['average_rating'] = float(row['average_rating']) if not math.isnan(row['average_rating']) else None\n",
    "    row['original_publication_year'] = int(row['original_publication_year']) if not math.isnan(row['original_publication_year']) else None\n",
    "    row['ratings_count'] = int(row['ratings_count']) if not math.isnan(row['ratings_count']) else None\n",
    "    row['language_code'] = row['language_code'] if not pd.isna(row['language_code']) else None\n",
    "    \n",
    "    # print(row['title'], '|', ','.join(row['authors'].split(',')[:5]), row['original_publication_year'], row['language_code'], row['average_rating'], row['ratings_count'], row['image_url'])\n",
    "    cursor.execute(\"INSERT INTO Books (`title`, `authors`, `original_publication_year`, `language_code`, `average_rating`, `ratings_count`, `image_url`) VALUES (%s, %s, %s, %s, %s, %s, %s)\",\n",
    "            (row['title'], ','.join(row['authors'].split(',')[:5]), row['original_publication_year'], row['language_code'], row['average_rating'], row['ratings_count'], row['image_url']))\n",
    "# Commit the changes to the database\n",
    "my_sql.commit()"
   ]
  },
  {
   "cell_type": "code",
   "execution_count": 10,
   "metadata": {},
   "outputs": [
    {
     "data": {
      "text/plain": [
       "[(10000,)]"
      ]
     },
     "execution_count": 10,
     "metadata": {},
     "output_type": "execute_result"
    }
   ],
   "source": [
    "cursor.execute(\"Select count(*) from books;\")\n",
    "result = cursor.fetchall()\n",
    "result"
   ]
  },
  {
   "cell_type": "code",
   "execution_count": 12,
   "metadata": {},
   "outputs": [],
   "source": [
    "# Read the CSV file into a pandas DataFrame\n",
    "df = pd.read_csv('users.csv')\n",
    "\n",
    "# Insert each row into the MySQL database\n",
    "for index, row in df.iterrows():\n",
    "    cursor.execute(\"INSERT INTO users (`user_id`,`username`, `first_name`,`last_name`,`email`,`dob`) VALUES (%s, %s, %s, %s, %s, %s)\",\n",
    "            (row['user_id'], row['username'], row['first_name'], row['last_name'], row['email'], row['dob']))\n",
    "# Commit the changes to the database\n",
    "my_sql.commit()"
   ]
  },
  {
   "cell_type": "code",
   "execution_count": 13,
   "metadata": {},
   "outputs": [
    {
     "data": {
      "text/plain": [
       "[(1874,)]"
      ]
     },
     "execution_count": 13,
     "metadata": {},
     "output_type": "execute_result"
    }
   ],
   "source": [
    "cursor.execute(\"Select count(*) from users;\")\n",
    "result = cursor.fetchall()\n",
    "result"
   ]
  },
  {
   "cell_type": "code",
   "execution_count": 14,
   "metadata": {
    "scrolled": true
   },
   "outputs": [],
   "source": [
    "# Read the CSV file into a pandas DataFrame\n",
    "df = pd.read_csv('user_credentials.csv')\n",
    "\n",
    "# Insert each row into the MySQL database\n",
    "for index, row in df.iterrows():\n",
    "    cursor.execute(\"INSERT INTO UserCredentials (`user_id`,`password`) VALUES (%s, %s)\", (row['user_id'], row['password']))\n",
    "# Commit the changes to the database\n",
    "my_sql.commit()"
   ]
  },
  {
   "cell_type": "code",
   "execution_count": 15,
   "metadata": {},
   "outputs": [
    {
     "data": {
      "text/plain": [
       "[(1874,)]"
      ]
     },
     "execution_count": 15,
     "metadata": {},
     "output_type": "execute_result"
    }
   ],
   "source": [
    "cursor.execute(\"Select count(*) from UserCredentials;\")\n",
    "result = cursor.fetchall()\n",
    "result"
   ]
  },
  {
   "cell_type": "code",
   "execution_count": null,
   "metadata": {},
   "outputs": [],
   "source": []
  }
 ],
 "metadata": {
  "kernelspec": {
   "display_name": "Python 3 (ipykernel)",
   "language": "python",
   "name": "python3"
  },
  "language_info": {
   "codemirror_mode": {
    "name": "ipython",
    "version": 3
   },
   "file_extension": ".py",
   "mimetype": "text/x-python",
   "name": "python",
   "nbconvert_exporter": "python",
   "pygments_lexer": "ipython3",
   "version": "3.9.12"
  }
 },
 "nbformat": 4,
 "nbformat_minor": 2
}
